{
  "cells": [
    {
      "cell_type": "markdown",
      "metadata": {
        "id": "phcRxjnyAlLb"
      },
      "source": [
        "## Importing Libraries"
      ]
    },
    {
      "cell_type": "code",
      "execution_count": 2,
      "metadata": {
        "id": "f6afMr9Lyj_H"
      },
      "outputs": [],
      "source": [
        "import tensorflow as tf\n",
        "from tensorflow.keras.applications import VGG16, ResNet101, DenseNet121\n",
        "from tensorflow.keras.models import Model\n",
        "from tensorflow.keras.layers import Dense, Flatten\n",
        "from tensorflow.keras.optimizers import Adam\n",
        "from tensorflow.keras.preprocessing.image import ImageDataGenerator\n",
        "from tensorflow.keras.callbacks import EarlyStopping\n",
        "from sklearn.metrics import classification_report, confusion_matrix\n",
        "\n",
        "import numpy as np\n",
        "import matplotlib.pyplot as plt\n",
        "import pandas as pd\n",
        "import seaborn as sns\n",
        "from sklearn.metrics import accuracy_score, precision_score, recall_score, f1_score\n",
        "from sklearn.model_selection import train_test_split\n",
        "from tensorflow.keras.preprocessing.image import load_img, img_to_array\n",
        "\n",
        "import os\n",
        "import random\n",
        "import shutil\n"
      ]
    },
    {
      "cell_type": "code",
      "execution_count": 3,
      "metadata": {
        "colab": {
          "base_uri": "https://localhost:8080/"
        },
        "id": "t6zvNb0YDG-e",
        "outputId": "8b86bc3c-9446-43ec-d72c-b41fccf2301d"
      },
      "outputs": [
        {
          "output_type": "stream",
          "name": "stdout",
          "text": [
            "Mounted at /content/drive\n"
          ]
        }
      ],
      "source": [
        "from google.colab import drive\n",
        "drive.mount('/content/drive')\n"
      ]
    },
    {
      "cell_type": "markdown",
      "metadata": {
        "id": "O3esVgmh6Fn7"
      },
      "source": [
        "## Data Preprocessing and Sampling"
      ]
    },
    {
      "cell_type": "code",
      "execution_count": 4,
      "metadata": {
        "id": "o0WAsNNf_Trl"
      },
      "outputs": [],
      "source": [
        "# Define paths to the original data directories\n",
        "train_data_true = \"/content/drive/MyDrive/Transfer_Learning/train/train/true\"\n",
        "test_data_true = \"/content/drive/MyDrive/Transfer_Learning/test/test/true\"\n",
        "\n",
        "train_data_false = \"/content/drive/MyDrive/Transfer_Learning/train/train/false\"\n",
        "test_data_false = \"/content/drive/MyDrive/Transfer_Learning/test/test/false\"\n",
        "\n",
        "# Define paths to the new subset data directories\n",
        "subset_train_data_false = \"/content/drive/MyDrive/Transfer_Learning/subset_dir/subset_train/false\"\n",
        "subset_test_data_false = \"/content/drive/MyDrive/Transfer_Learning/subset_dir/subset_test/false\"\n",
        "\n",
        "subset_train_data_true = \"/content/drive/MyDrive/Transfer_Learning/subset_dir/subset_train/true\"\n",
        "subset_test_data_true = \"/content/drive/MyDrive/Transfer_Learning/subset_dir/subset_test/true\""
      ]
    },
    {
      "cell_type": "code",
      "execution_count": null,
      "metadata": {
        "colab": {
          "base_uri": "https://localhost:8080/"
        },
        "id": "CpFEwj7udCgW",
        "outputId": "efe0bcd6-b506-4854-f781-fdb2748a5904"
      },
      "outputs": [
        {
          "output_type": "stream",
          "name": "stdout",
          "text": [
            "Found 2219 images in /content/drive/MyDrive/Transfer_Learning/train/train/true\n",
            "First 5 true images: ['/content/drive/MyDrive/Transfer_Learning/train/train/true/1043.png', '/content/drive/MyDrive/Transfer_Learning/train/train/true/1250.png', '/content/drive/MyDrive/Transfer_Learning/train/train/true/1396.png', '/content/drive/MyDrive/Transfer_Learning/train/train/true/1687.png', '/content/drive/MyDrive/Transfer_Learning/train/train/true/1797.png']\n",
            "Found 2230 images in /content/drive/MyDrive/Transfer_Learning/train/train/false\n",
            "First 5 false images: ['/content/drive/MyDrive/Transfer_Learning/train/train/false/1786.png', '/content/drive/MyDrive/Transfer_Learning/train/train/false/2134.png', '/content/drive/MyDrive/Transfer_Learning/train/train/false/374.png', '/content/drive/MyDrive/Transfer_Learning/train/train/false/1927.png', '/content/drive/MyDrive/Transfer_Learning/train/train/false/334.png']\n",
            "Found 557 images in /content/drive/MyDrive/Transfer_Learning/test/test/true\n",
            "First 5 true images: ['/content/drive/MyDrive/Transfer_Learning/test/test/true/341.png', '/content/drive/MyDrive/Transfer_Learning/test/test/true/373.png', '/content/drive/MyDrive/Transfer_Learning/test/test/true/129.png', '/content/drive/MyDrive/Transfer_Learning/test/test/true/357.png', '/content/drive/MyDrive/Transfer_Learning/test/test/true/444.png']\n",
            "Found 557 images in /content/drive/MyDrive/Transfer_Learning/test/test/false\n",
            "First 5 false images: ['/content/drive/MyDrive/Transfer_Learning/test/test/false/160.png', '/content/drive/MyDrive/Transfer_Learning/test/test/false/143.png', '/content/drive/MyDrive/Transfer_Learning/test/test/false/146.png', '/content/drive/MyDrive/Transfer_Learning/test/test/false/153.png', '/content/drive/MyDrive/Transfer_Learning/test/test/false/141.png']\n"
          ]
        }
      ],
      "source": [
        "# def create_subset_with_subdirs(original_dir_true, original_dir_false, subset_dir_true, subset_dir_false, num_samples):\n",
        "    # Ensure the subset directories exist\n",
        "    #if not os.path.exists(subset_dir_true):\n",
        "        os.makedirs(subset_dir_true)\n",
        "    #if not os.path.exists(subset_dir_false):\n",
        "        os.makedirs(subset_dir_false)\n",
        "\n",
        "    # Collect all image paths from both true and false directories\n",
        "    #all_images_true = [os.path.join(original_dir_true, img) for img in os.listdir(original_dir_true) if img.endswith(('jpg', 'jpeg', 'png'))]\n",
        "    #all_images_false = [os.path.join(original_dir_false, img) for img in os.listdir(original_dir_false) if img.endswith(('jpg', 'jpeg', 'png'))]\n",
        "\n",
        "    # Debugging: Print the number of images found and the first few image paths for both classes\n",
        "    # print(f\"Found {len(all_images_true)} images in {original_dir_true}\")\n",
        "    # print(f\"First 5 true images: {all_images_true[:5]}\")\n",
        "    # print(f\"Found {len(all_images_false)} images in {original_dir_false}\")\n",
        "    # print(f\"First 5 false images: {all_images_false[:5]}\")\n",
        "\n",
        "    # Check if there are enough images\n",
        "    # if len(all_images_true) < num_samples or len(all_images_false) < num_samples:\n",
        "        #raise ValueError(f\"Not enough images in the dataset. Found {len(all_images_true)} true images and {len(all_images_false)} false images, needed {num_samples} each.\")\n",
        "\n",
        "    # Randomly select images\n",
        "    # selected_images_true = random.sample(all_images_true, num_samples)\n",
        "    # selected_images_false = random.sample(all_images_false, num_samples)\n",
        "\n",
        "    # Copy selected images to subset directories\n",
        "    # for img in selected_images_true:\n",
        "        #img_name = os.path.basename(img)\n",
        "        #dst = os.path.join(subset_dir_true, img_name)\n",
        "        #shutil.copyfile(img, dst)\n",
        "\n",
        "    # for img in selected_images_false:\n",
        "        #img_name = os.path.basename(img)\n",
        "        #dst = os.path.join(subset_dir_false, img_name)\n",
        "        #shutil.copyfile(img, dst)\n",
        "\n",
        "# Number of samples to use\n",
        "# num_samples_per_dataset = 250\n",
        "\n",
        "# Create subsets for training and testing\n",
        "# create_subset_with_subdirs(train_data_true, train_data_false, subset_train_data_true, subset_train_data_false, num_samples_per_dataset)\n",
        "# create_subset_with_subdirs(test_data_true, test_data_false, subset_test_data_true, subset_test_data_false, num_samples_per_dataset)\n"
      ]
    },
    {
      "cell_type": "code",
      "execution_count": 5,
      "metadata": {
        "id": "H8H8xQZOTIaE"
      },
      "outputs": [],
      "source": [
        "# Define paths to the data directories\n",
        "\n",
        "# Get the project root directory\n",
        "ROOT_DIR = \"/content/drive/MyDrive/Transfer_Learning/\"\n",
        "\n",
        "# Declare data directories\n",
        "subset_train_data_dir = os.path.join(ROOT_DIR, 'subset_dir/subset_train')\n",
        "subset_test_data_dir = os.path.join(ROOT_DIR, 'subset_dir/subset_test')"
      ]
    },
    {
      "cell_type": "code",
      "execution_count": 6,
      "metadata": {
        "colab": {
          "base_uri": "https://localhost:8080/"
        },
        "id": "aIkw1GDLSP1t",
        "outputId": "4a6756aa-6743-429a-a5b4-a2acf76cf8cf"
      },
      "outputs": [
        {
          "output_type": "stream",
          "name": "stdout",
          "text": [
            "Found 500 images belonging to 2 classes.\n",
            "Found 500 images belonging to 2 classes.\n"
          ]
        }
      ],
      "source": [
        "# Image dimensions\n",
        "img_height, img_width = 224, 224\n",
        "\n",
        "# Batch size\n",
        "batch_size = 16\n",
        "\n",
        "# Data augmentation and preprocessing for train data\n",
        "train_datagen = ImageDataGenerator(\n",
        "    rescale=1./255,\n",
        "    rotation_range=20,\n",
        "    width_shift_range=0.2,\n",
        "    height_shift_range=0.2,\n",
        "    shear_range=0.2,\n",
        "    zoom_range=0.2,\n",
        "    horizontal_flip=True,\n",
        "    fill_mode='nearest')\n",
        "\n",
        "# Data preprocessing for test data\n",
        "test_datagen = ImageDataGenerator(rescale=1./255)\n",
        "\n",
        "# Generate train and test data batches from the subset directories\n",
        "train_generator = train_datagen.flow_from_directory(\n",
        "    subset_train_data_dir,\n",
        "    target_size=(img_height, img_width),\n",
        "    batch_size=batch_size,\n",
        "    class_mode='binary',\n",
        "    shuffle=True)\n",
        "\n",
        "test_generator = test_datagen.flow_from_directory(\n",
        "    subset_test_data_dir,\n",
        "    target_size=(img_height, img_width),\n",
        "    batch_size=batch_size,\n",
        "    class_mode='binary',\n",
        "    shuffle=False)\n"
      ]
    },
    {
      "cell_type": "markdown",
      "metadata": {
        "id": "ker7Ags66PcL"
      },
      "source": [
        "## Model Definitions"
      ]
    },
    {
      "cell_type": "code",
      "execution_count": 7,
      "metadata": {
        "id": "lch-p2ZR7bcj",
        "colab": {
          "base_uri": "https://localhost:8080/"
        },
        "outputId": "c8e0f24c-d788-448e-dc89-6a219336046e"
      },
      "outputs": [
        {
          "output_type": "stream",
          "name": "stdout",
          "text": [
            "Downloading data from https://storage.googleapis.com/tensorflow/keras-applications/vgg16/vgg16_weights_tf_dim_ordering_tf_kernels_notop.h5\n",
            "58889256/58889256 [==============================] - 0s 0us/step\n",
            "Downloading data from https://storage.googleapis.com/tensorflow/keras-applications/resnet/resnet101_weights_tf_dim_ordering_tf_kernels_notop.h5\n",
            "171446536/171446536 [==============================] - 1s 0us/step\n",
            "Downloading data from https://storage.googleapis.com/tensorflow/keras-applications/densenet/densenet121_weights_tf_dim_ordering_tf_kernels_notop.h5\n",
            "29084464/29084464 [==============================] - 0s 0us/step\n"
          ]
        }
      ],
      "source": [
        "# Defining the models\n",
        "vgg_model = VGG16(weights='imagenet', include_top=False, input_shape=(img_height, img_width, 3))\n",
        "resnet_model = ResNet101(weights='imagenet', include_top=False, input_shape=(img_height, img_width, 3))\n",
        "densenet_model = DenseNet121(weights='imagenet', include_top=False, input_shape=(img_height, img_width, 3))"
      ]
    },
    {
      "cell_type": "markdown",
      "source": [
        "## Fine-tuning pre-selected models"
      ],
      "metadata": {
        "id": "cdsTBP5fJ-jG"
      }
    },
    {
      "cell_type": "code",
      "execution_count": 12,
      "metadata": {
        "colab": {
          "base_uri": "https://localhost:8080/"
        },
        "id": "_YwzyYjp6N_n",
        "outputId": "7b0f06f2-dea6-45f1-90c0-9bdeb6b3d230"
      },
      "outputs": [
        {
          "output_type": "stream",
          "name": "stderr",
          "text": [
            "WARNING:absl:`lr` is deprecated in Keras optimizer, please use `learning_rate` or use the legacy optimizer, e.g.,tf.keras.optimizers.legacy.Adam.\n",
            "WARNING:absl:`lr` is deprecated in Keras optimizer, please use `learning_rate` or use the legacy optimizer, e.g.,tf.keras.optimizers.legacy.Adam.\n",
            "WARNING:absl:`lr` is deprecated in Keras optimizer, please use `learning_rate` or use the legacy optimizer, e.g.,tf.keras.optimizers.legacy.Adam.\n"
          ]
        }
      ],
      "source": [
        "# Freezing convolutional base for all models\n",
        "for model in [vgg_model, resnet_model, densenet_model]:\n",
        "    for layer in model.layers:\n",
        "        layer.trainable = False\n",
        "\n",
        "# Adding custom top layers for classification\n",
        "def add_top_layers(base_model):\n",
        "    x = Flatten()(base_model.output)\n",
        "    x = Dense(128, activation='relu')(x)\n",
        "    predictions = Dense(1, activation='sigmoid')(x)\n",
        "\n",
        "    model = Model(inputs=base_model.input, outputs=predictions)\n",
        "\n",
        "    return model\n",
        "\n",
        "# Creating fine-tuned models\n",
        "vgg_finetuned = add_top_layers(vgg_model)\n",
        "resnet_finetuned = add_top_layers(resnet_model)\n",
        "densenet_finetuned = add_top_layers(densenet_model)\n",
        "\n",
        "\n",
        "# Compiling models\n",
        "for model in [vgg_finetuned, resnet_finetuned, densenet_finetuned]:\n",
        "    model.compile(optimizer=Adam(lr=0.0001), loss='binary_crossentropy', metrics=['accuracy'])"
      ]
    },
    {
      "cell_type": "markdown",
      "metadata": {
        "id": "BRquYNoFAy57"
      },
      "source": [
        "## Model Training"
      ]
    },
    {
      "cell_type": "code",
      "execution_count": 10,
      "metadata": {
        "colab": {
          "base_uri": "https://localhost:8080/"
        },
        "id": "G4zN-GoY7Wub",
        "outputId": "020da768-9e2d-473c-98d7-49852a940225"
      },
      "outputs": [
        {
          "output_type": "stream",
          "name": "stdout",
          "text": [
            "Epoch 1/5\n",
            "31/31 [==============================] - 636s 21s/step - loss: 1.2237 - accuracy: 0.5351 - val_loss: 0.7802 - val_accuracy: 0.5040\n",
            "Epoch 2/5\n",
            "31/31 [==============================] - 635s 21s/step - loss: 0.8023 - accuracy: 0.5165 - val_loss: 0.6481 - val_accuracy: 0.6431\n",
            "Epoch 3/5\n",
            "31/31 [==============================] - 635s 21s/step - loss: 0.7257 - accuracy: 0.5165 - val_loss: 0.6332 - val_accuracy: 0.6653\n",
            "Epoch 4/5\n",
            "31/31 [==============================] - 635s 21s/step - loss: 0.6647 - accuracy: 0.6136 - val_loss: 0.6270 - val_accuracy: 0.6512\n",
            "Epoch 5/5\n",
            "31/31 [==============================] - 625s 20s/step - loss: 0.6338 - accuracy: 0.6343 - val_loss: 0.6165 - val_accuracy: 0.6552\n",
            "Epoch 1/5\n",
            "31/31 [==============================] - 371s 12s/step - loss: 2.6036 - accuracy: 0.4711 - val_loss: 0.7102 - val_accuracy: 0.4819\n",
            "Epoch 2/5\n",
            "31/31 [==============================] - 358s 12s/step - loss: 0.8004 - accuracy: 0.4938 - val_loss: 0.7081 - val_accuracy: 0.5363\n",
            "Epoch 3/5\n",
            "31/31 [==============================] - 357s 12s/step - loss: 0.6882 - accuracy: 0.5599 - val_loss: 0.7307 - val_accuracy: 0.5040\n",
            "Epoch 4/5\n",
            "31/31 [==============================] - 389s 13s/step - loss: 0.7332 - accuracy: 0.5413 - val_loss: 0.6906 - val_accuracy: 0.5363\n",
            "Epoch 5/5\n",
            "31/31 [==============================] - 392s 13s/step - loss: 0.8292 - accuracy: 0.5504 - val_loss: 0.6905 - val_accuracy: 0.5504\n",
            "Epoch 1/5\n",
            "31/31 [==============================] - 242s 8s/step - loss: 4.2548 - accuracy: 0.5455 - val_loss: 0.9946 - val_accuracy: 0.6411\n",
            "Epoch 2/5\n",
            "31/31 [==============================] - 229s 8s/step - loss: 0.8914 - accuracy: 0.6281 - val_loss: 0.7370 - val_accuracy: 0.6391\n",
            "Epoch 3/5\n",
            "31/31 [==============================] - 169s 6s/step - loss: 0.7686 - accuracy: 0.6219 - val_loss: 0.6942 - val_accuracy: 0.6472\n",
            "Epoch 4/5\n",
            "31/31 [==============================] - 236s 8s/step - loss: 0.8307 - accuracy: 0.6591 - val_loss: 0.7308 - val_accuracy: 0.6452\n",
            "Epoch 5/5\n",
            "31/31 [==============================] - ETA: 0s - loss: 0.6818 - accuracy: 0.6593"
          ]
        }
      ],
      "source": [
        "# Defining early stopping callback\n",
        "early_stopping = EarlyStopping(monitor='val_loss', patience=3, restore_best_weights=True)\n",
        "\n",
        "# Training the models with early stopping\n",
        "epochs = 5\n",
        "for model in [vgg_finetuned, resnet_finetuned, densenet_finetuned]:\n",
        "    model.fit(\n",
        "        train_generator,\n",
        "        steps_per_epoch=train_generator.n // batch_size,\n",
        "        epochs=epochs,\n",
        "        validation_data=test_generator,\n",
        "        validation_steps=test_generator.n // batch_size,\n",
        "        callbacks=[early_stopping])"
      ]
    },
    {
      "cell_type": "markdown",
      "metadata": {
        "id": "D1HleoT-O3hz"
      },
      "source": [
        "## Evaluation and Performance Metrics"
      ]
    },
    {
      "cell_type": "code",
      "source": [
        "# Initialize lists to store metrics\n",
        "model_names = ['VGG16', 'ResNet101', 'DenseNet121']\n",
        "accuracies = []\n",
        "losses = []\n",
        "precisions = []\n",
        "recalls = []\n",
        "f1_scores = []\n",
        "\n",
        "# Store predictions and true labels\n",
        "preds = []\n",
        "true_labels = []\n",
        "\n",
        "# Evaluate and print metrics for each model\n",
        "for model, name in zip([vgg_finetuned, resnet_finetuned, densenet_finetuned], model_names):\n",
        "    print(f\"Evaluating {name}...\")\n",
        "    test_loss, test_accuracy = model.evaluate(test_generator)\n",
        "\n",
        "    # Predictions\n",
        "    y_pred = model.predict(test_generator)\n",
        "    y_pred_classes = np.round(y_pred).astype(int).flatten()\n",
        "    preds.append(y_pred_classes)\n",
        "\n",
        "    # True labels\n",
        "    y_true = test_generator.classes\n",
        "    true_labels = y_true  # assuming true labels are the same for all models\n",
        "\n",
        "    # Calculate metrics\n",
        "    precision = precision_score(y_true, y_pred_classes, average='binary')\n",
        "    recall = recall_score(y_true, y_pred_classes, average='binary')\n",
        "    f1 = f1_score(y_true, y_pred_classes, average='binary')\n",
        "\n",
        "    # Append metrics to lists\n",
        "    accuracies.append(test_accuracy)\n",
        "    losses.append(test_loss)\n",
        "    precisions.append(precision)\n",
        "    recalls.append(recall)\n",
        "    f1_scores.append(f1)\n",
        "\n",
        "# Create a DataFrame to display the metrics in a tabular format\n",
        "metrics_df = pd.DataFrame({\n",
        "    'Model': model_names,\n",
        "    'Accuracy': accuracies,\n",
        "    'Loss': losses,\n",
        "    'Precision': precisions,\n",
        "    'Recall': recalls,\n",
        "    'F1 Score': f1_scores\n",
        "})\n",
        "\n",
        "# Display the DataFrame\n",
        "print(metrics_df)"
      ],
      "metadata": {
        "colab": {
          "base_uri": "https://localhost:8080/"
        },
        "id": "5VNc53ErTFb1",
        "outputId": "8b9aad48-fcbc-4885-fce3-688ba1b77e10"
      },
      "execution_count": 11,
      "outputs": [
        {
          "output_type": "stream",
          "name": "stdout",
          "text": [
            "Evaluating VGG16...\n",
            "32/32 [==============================] - 329s 10s/step - loss: 0.6162 - accuracy: 0.6560\n",
            "32/32 [==============================] - 315s 10s/step\n",
            "Evaluating ResNet101...\n",
            "32/32 [==============================] - 178s 6s/step - loss: 0.6891 - accuracy: 0.5540\n",
            "32/32 [==============================] - 177s 5s/step\n",
            "Evaluating DenseNet121...\n",
            "32/32 [==============================] - 87s 3s/step - loss: 0.7799 - accuracy: 0.6620\n",
            "32/32 [==============================] - 88s 3s/step\n",
            "         Model  Accuracy      Loss  Precision  Recall  F1 Score\n",
            "0        VGG16     0.656  0.616238   0.625806   0.776  0.692857\n",
            "1    ResNet101     0.554  0.689052   0.532847   0.876  0.662632\n",
            "2  DenseNet121     0.662  0.779899   0.616046   0.860  0.717863\n"
          ]
        }
      ]
    },
    {
      "cell_type": "markdown",
      "source": [
        "## Visualizations"
      ],
      "metadata": {
        "id": "p3E001dlsa2s"
      }
    },
    {
      "cell_type": "code",
      "execution_count": 14,
      "metadata": {
        "id": "0wMpdlimBbaV",
        "colab": {
          "base_uri": "https://localhost:8080/",
          "height": 1000
        },
        "outputId": "d4e0293e-5463-4cfe-87ff-8ec89197776d"
      },
      "outputs": [
        {
          "output_type": "display_data",
          "data": {
            "text/plain": [
              "<Figure size 800x600 with 1 Axes>"
            ],
            "image/png": "[encoded data removed]"
          },
          "metadata": {}
        },
        {
          "output_type": "display_data",
          "data": {
            "text/plain": [
              "<Figure size 800x600 with 1 Axes>"
            ],
            "image/png": "[encoded data removed]"
          },
          "metadata": {}
        },
        {
          "output_type": "display_data",
          "data": {
            "text/plain": [
              "<Figure size 800x600 with 1 Axes>"
            ],
            "image/png": "[encoded data removed]"
          },
          "metadata": {}
        }
      ],
      "source": [
        "# Plot the confusion matrices\n",
        "for model_name, predictions in zip(model_names, preds):\n",
        "    cm = confusion_matrix(true_labels, predictions)\n",
        "    plt.figure(figsize=(8,6))\n",
        "    sns.heatmap(cm, annot=True, fmt='d', cmap='Blues', cbar=False)\n",
        "    plt.title(f'Confusion Matrix - {model_name}')\n",
        "    plt.xlabel('Predicted Label')\n",
        "    plt.ylabel('True Label')\n",
        "    plt.show()"
      ]
    }
  ],
  "metadata": {
    "colab": {
      "provenance": []
    },
    "kernelspec": {
      "display_name": "Python 3",
      "name": "python3"
    },
    "language_info": {
      "name": "python"
    }
  },
  "nbformat": 4,
  "nbformat_minor": 0
}